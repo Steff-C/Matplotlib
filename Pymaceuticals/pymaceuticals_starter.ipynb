{
 "cells": [
  {
   "cell_type": "markdown",
   "metadata": {},
   "source": [
    "## Observations and Insights "
   ]
  },
  {
   "cell_type": "code",
   "execution_count": null,
   "metadata": {},
   "outputs": [],
   "source": [
    "# Dependencies and Setup\n",
    "import matplotlib.pyplot as plt\n",
    "import pandas as pd\n",
    "import scipy.stats as st\n",
    "import numpy as np\n",
    "\n",
    "# Study data files\n",
    "mouse_metadata_path = \"data/Mouse_metadata.csv\"\n",
    "study_results_path = \"data/Study_results.csv\"\n",
    "\n",
    "# Read the mouse data and the study results\n",
    "mouse_metadata = pd.read_csv(mouse_metadata_path)\n",
    "study_results = pd.read_csv(study_results_path)\n",
    "\n",
    "mouse_metadata"
   ]
  },
  {
   "cell_type": "code",
   "execution_count": null,
   "metadata": {},
   "outputs": [],
   "source": [
    "study_results"
   ]
  },
  {
   "cell_type": "code",
   "execution_count": null,
   "metadata": {},
   "outputs": [],
   "source": [
    "# Combine the data into a single dataset\n",
    "mouse_df = pd.merge(mouse_metadata, study_results, on=\"Mouse ID\")\n",
    "\n",
    "# Display the data table for preview\n",
    "mouse_df.head()"
   ]
  },
  {
   "cell_type": "code",
   "execution_count": null,
   "metadata": {},
   "outputs": [],
   "source": [
    "# Checking the number of mice.\n",
    "mouse_count = mouse_df[\"Mouse ID\"].count()\n",
    "mouse_count"
   ]
  },
  {
   "cell_type": "code",
   "execution_count": null,
   "metadata": {},
   "outputs": [],
   "source": [
    "# Checking the distinct number of mice.\n",
    "distinctmouse_count = mouse_df[\"Mouse ID\"].nunique()\n",
    "distinctmouse_count"
   ]
  },
  {
   "cell_type": "code",
   "execution_count": null,
   "metadata": {},
   "outputs": [],
   "source": [
    "# Getting the duplicate mice by ID number that shows up for Mouse ID and Timepoint. \n",
    "duplicate_mice = mouse_df[mouse_df.duplicated([\"Mouse ID\", \"Timepoint\"])]\n",
    "duplicate_mice"
   ]
  },
  {
   "cell_type": "code",
   "execution_count": null,
   "metadata": {},
   "outputs": [],
   "source": [
    "# Optional: Get all the data for the duplicate mouse ID. \n",
    "allduplicate_mice = mouse_df[mouse_df.duplicated(['Mouse ID',])]\n",
    "allduplicate_mice.head()"
   ]
  },
  {
   "cell_type": "code",
   "execution_count": null,
   "metadata": {},
   "outputs": [],
   "source": [
    "uniquemice_df = mouse_df.drop_duplicates(subset=[\"Mouse ID\",\"Timepoint\"])\n",
    "uniquemice_df"
   ]
  },
  {
   "cell_type": "code",
   "execution_count": null,
   "metadata": {},
   "outputs": [],
   "source": [
    "# Checking the number of mice in the clean DataFrame.\n",
    "uniquemice_count = uniquemice_df[\"Mouse ID\"].count()\n",
    "uniquemice_count"
   ]
  },
  {
   "cell_type": "markdown",
   "metadata": {},
   "source": [
    "## Summary Statistics"
   ]
  },
  {
   "cell_type": "code",
   "execution_count": null,
   "metadata": {},
   "outputs": [],
   "source": [
    "# Generate a summary statistics table of mean, median, variance, standard deviation, & SEM of the tumor volume for each regimen\n",
    "\n",
    "# Use groupby and summary statistical methods to calculate the following properties of each drug regimen: \n",
    "# mean, median, variance, standard deviation, and SEM of the tumor volume. \n",
    "# Assemble the resulting series into a single summary dataframe.\n",
    "\n",
    "summary_data = uniquemice_df[[\"Drug Regimen\", \"Tumor Volume (mm3)\"]]\n",
    "summary_data"
   ]
  },
  {
   "cell_type": "code",
   "execution_count": null,
   "metadata": {},
   "outputs": [],
   "source": [
    "grouped_data = summary_data.groupby([\"Drug Regimen\"])\n",
    "\n",
    "summary_df = pd.DataFrame({\n",
    "    \"Mean\": grouped_data[\"Tumor Volume (mm3)\"].mean().map('{:.2f}'.format),\n",
    "    \"Median\": grouped_data[\"Tumor Volume (mm3)\"].median().map('{:.2f}'.format),\n",
    "    \"Variance\": grouped_data[\"Tumor Volume (mm3)\"].var().map('{:.2f}'.format),\n",
    "    \"Standard Deviation\": grouped_data[\"Tumor Volume (mm3)\"].std().map('{:.2f}'.format),\n",
    "    \"SEM\": grouped_data[\"Tumor Volume (mm3)\"].sem().map('{:.2f}'.format)\n",
    "})\n",
    "\n",
    "summary_df"
   ]
  },
  {
   "cell_type": "code",
   "execution_count": null,
   "metadata": {},
   "outputs": [],
   "source": [
    "# Generate a summary statistics table of mean, median, variance, standard deviation, & SEM of the tumor volume for each regimen\n",
    "\n",
    "# Using the aggregation method, produce the same summary statistics in a single line\n",
    "\n",
    "aggdata = summary_data.groupby([\"Drug Regimen\"])\n",
    "altsummary = aggdata.agg(['mean','median','var','std','sem'])[\"Tumor Volume (mm3)\"]\n",
    "altsummary\n"
   ]
  },
  {
   "cell_type": "markdown",
   "metadata": {},
   "source": [
    "## Bar and Pie Charts"
   ]
  },
  {
   "cell_type": "code",
   "execution_count": null,
   "metadata": {},
   "outputs": [],
   "source": [
    "# Generate a bar plot showing the total number of measurements taken on each drug regimen using pandas.\n",
    "\n",
    "# Drug Regimen DF and count\n",
    "regimen_group = uniquemice_df.groupby('Drug Regimen')\n",
    "regimen_count = pd.DataFrame(regimen_group['Drug Regimen'].count())\n",
    "\n",
    "# Bar Chart\n",
    "bar_chart = regimen_count.plot(kind='bar', title=\"Total Measurements Taken by Drug Regimen\", color=\"blue\")\n",
    "\n",
    "# Assign X and Y labels\n",
    "bar_chart.set_xlabel(\"Drug Regimen\")\n",
    "bar_chart.set_ylabel(\"Count\")\n",
    "plt.tight_layout()\n",
    "\n",
    "# Save chart\n",
    "plt.savefig(\"Charts/BarChartPandas.png\")\n",
    "\n",
    "plt.show()\n"
   ]
  },
  {
   "cell_type": "code",
   "execution_count": null,
   "metadata": {},
   "outputs": [],
   "source": [
    "# Generate a bar plot showing the total number of measurements taken on each drug regimen using pyplot.\n",
    "\n",
    "# Set X Axis and Tick Mark Locations\n",
    "X_Axis = np.arange(len(regimen_count))\n",
    "tick_locations = [value for value in X_Axis]\n",
    "\n",
    "# Set Size, Color,tick style\n",
    "plt.figure(figsize=(16,7))\n",
    "plt.bar(X_Axis, regimen_count['Drug Regimen'], color='green', alpha=0.4)\n",
    "plt.xticks(tick_locations, list(regimen_count.index), rotation=\"0\") \n",
    "\n",
    "# Set Limits\n",
    "plt.xlim(-0.75, len(X_Axis) - 0.25)\n",
    "plt.ylim(0, 275)\n",
    "\n",
    "# Set Labels and Titles\n",
    "plt.title(\"Total Measurements Taken by Drug Regimen\")\n",
    "plt.xlabel(\"Drug Regimen\")\n",
    "plt.ylabel(\"Average Tumor Volume (mm3)\")\n",
    "plt.tight_layout()\n",
    "\n",
    "# Save chart\n",
    "plt.savefig(\"Charts/BarChartPyplot.png\")\n",
    "\n",
    "plt.show()\n"
   ]
  },
  {
   "cell_type": "code",
   "execution_count": null,
   "metadata": {},
   "outputs": [],
   "source": [
    "# Generate a pie plot showing the distribution of female versus male mice using pandas\n",
    "mice_gender = uniquemice_df.groupby('Sex')\n",
    "# mice_gender.head()\n",
    "\n",
    "mice_gender_count = pd.DataFrame(mice_gender[\"Sex\"].count())\n",
    "# mice_gender_count.head()\n",
    "\n",
    "mice_gender_count = uniquemice_df[\"Sex\"].value_counts()\n",
    "plt.figure()\n",
    "mice_gender_count.plot(kind=\"pie\", autopct='%1.1f%%',shadow=False, startangle=140, fontsize=14, colors =[\"gray\",\"purple\"], legend =False)\n",
    "plt.tight_layout()\n",
    "plt.axis(\"equal\")\n",
    "plt.title(\"Distribution of Male versus Female Mice\")\n",
    "plt.tight_layout()\n",
    "plt.savefig(\"Charts/PieChartPandas.png\")\n",
    "plt.show()"
   ]
  },
  {
   "cell_type": "code",
   "execution_count": null,
   "metadata": {},
   "outputs": [],
   "source": [
    "# Generate a pie plot showing the distribution of female versus male mice using pyplot\n",
    "\n",
    "# Get Labels for our pie chart from the index values of the groupby dataframe\n",
    "\n",
    "micegender = list(mice_gender_count.index.values)\n",
    "# mice_genders = [\"Female\"],[\"Male\"]\n",
    "\n",
    "# # The values of each section of the pie chart\n",
    "# mice_gender_counts = mice_gender_count[\"Sex\"].count\n",
    "\n",
    "# The colors of each section of the pie chart\n",
    "colors = [\"gray\", \"purple\"]\n",
    "\n",
    "\n",
    "# Creates the pie chart based upon the values above\n",
    "# Automatically finds the percentages of each part of the pie chart\n",
    "plt.pie(mice_gender_count, labels=micegender, colors=colors,\n",
    "        autopct=\"%1.1f%%\", shadow=True, startangle=140)\n",
    "plt.rcParams['font.size'] = 16\n",
    "plt.title(\"Distribution of Male versus Female Mice\")\n",
    "plt.ylabel(\"Sex\")\n",
    "plt.axis(\"equal\")\n",
    "plt.savefig(\"Charts/PieChartPyplot.png\")\n",
    "plt.show()\n"
   ]
  },
  {
   "cell_type": "markdown",
   "metadata": {},
   "source": [
    "## Quartiles, Outliers and Boxplots"
   ]
  },
  {
   "cell_type": "code",
   "execution_count": null,
   "metadata": {},
   "outputs": [],
   "source": [
    "# # Calculate the final tumor volume of each mouse across four of the treatment regimens:  \n",
    "# # Capomulin, Ramicane, Infubinol, and Ceftamin\n",
    "\n",
    "Capomulin_df = uniquemice_df.loc[uniquemice_df[\"Drug Regimen\"] == \"Capomulin\",:]\n",
    "Ramicane_df = uniquemice_df.loc[uniquemice_df[\"Drug Regimen\"] == \"Ramicane\", :]\n",
    "Infubinol_df = uniquemice_df.loc[uniquemice_df[\"Drug Regimen\"] == \"Infubinol\", :]\n",
    "Ceftamin_df = uniquemice_df.loc[uniquemice_df[\"Drug Regimen\"] == \"Ceftamin\", :]"
   ]
  },
  {
   "cell_type": "code",
   "execution_count": null,
   "metadata": {},
   "outputs": [],
   "source": [
    "# Put treatments into a list for for loop (and later for plot labels)\n",
    "\n",
    "\n",
    "# Create empty list to fill with tumor vol data (for plotting)\n",
    "\n",
    "\n",
    "# Calculate the IQR and quantitatively determine if there are any potential outliers. \n",
    "\n",
    "    \n",
    "    # Locate the rows which contain mice on each drug and get the tumor volumes\n",
    "    \n",
    "    \n",
    "    # add subset \n",
    "    \n",
    "    \n",
    "    # Determine outliers using upper and lower bounds\n",
    "\n",
    "#Capomulin\n",
    "\n",
    "Capomulinlast = Capomulin_df.groupby('Mouse ID').max()['Timepoint']\n",
    "Capomulinlastvol = pd.DataFrame(Capomulinlast)\n",
    "Capomulinlastmerge = pd.merge(Capomulinlastvol, uniquemice_df, on=(\"Mouse ID\",\"Timepoint\"),how=\"left\")\n",
    "Capomulinlastmerge.head(5)"
   ]
  },
  {
   "cell_type": "code",
   "execution_count": null,
   "metadata": {},
   "outputs": [],
   "source": [
    "Capomulintumors = Capomulinlastmerge[\"Tumor Volume (mm3)\"]\n",
    "\n",
    "quartiles = Capomulintumors.quantile([.25,.5,.75])\n",
    "lowerq = quartiles[0.25]\n",
    "upperq = quartiles[0.75]\n",
    "iqr = upperq-lowerq\n",
    "\n",
    "lower_bound = lowerq - (1.5*iqr)\n",
    "upper_bound = upperq + (1.5*iqr)\n",
    "print(f\"Capomulin potential outliers could be values below {lower_bound} and above {upper_bound} could also be outliers.\")\n",
    "\n",
    "#Ramicane\n",
    "\n",
    "Ramicanelast = Ramicane_df.groupby('Mouse ID').max()['Timepoint']\n",
    "Ramicanelastvol = pd.DataFrame(Ramicanelast)\n",
    "Ramicanelastmerge = pd.merge(Ramicanelastvol, uniquemice_df, on=(\"Mouse ID\",\"Timepoint\"),how=\"left\")\n",
    "Ramicanelastmerge.head(10)\n",
    "\n",
    "Ramicanetumors = Ramicanelastmerge[\"Tumor Volume (mm3)\"]\n",
    "\n",
    "quartiles2 = Ramicanetumors.quantile([.25,.5,.75])\n",
    "lowerq2 = quartiles2[0.25]\n",
    "upperq2 = quartiles2[0.75]\n",
    "iqr2 = upperq2-lowerq2\n",
    "\n",
    "lower_bound2 = lowerq2 - (1.5*iqr2)\n",
    "upper_bound2 = upperq2 + (1.5*iqr2)\n",
    "print(f\"Ramicane potential outliers could be values below {lower_bound2} and above {upper_bound2} could be outliers.\")\n",
    "\n",
    "\n",
    "\n",
    "#Infubinol\n",
    "Infubinollast = Infubinol_df.groupby('Mouse ID').max()['Timepoint']\n",
    "Infubinollastvol = pd.DataFrame(Infubinollast)\n",
    "Infubinollastmerge = pd.merge(Infubinollastvol, uniquemice_df, on=(\"Mouse ID\",\"Timepoint\"),how=\"left\")\n",
    "Infubinollastmerge.head(10)\n",
    "\n",
    "Infubinoltumors = Infubinollastmerge[\"Tumor Volume (mm3)\"]\n",
    "\n",
    "quartiles3 = Infubinoltumors.quantile([.25,.5,.75])\n",
    "lowerq3 = quartiles3[0.25]\n",
    "upperq3 = quartiles3[0.75]\n",
    "iqr3 = upperq3-lowerq3\n",
    "\n",
    "lower_bound3 = lowerq3 - (1.5*iqr3)\n",
    "upper_bound3 = upperq3 + (1.5*iqr3)\n",
    "print(f\"Infubinol potential outliers could be values below {lower_bound3} and above {upper_bound3} could be outliers.\")\n",
    "\n",
    "\n",
    "#Ceftamin\n",
    "Ceftaminlast = Ceftamin_df.groupby('Mouse ID').max()['Timepoint']\n",
    "Ceftaminlastvol = pd.DataFrame(Ceftaminlast)\n",
    "Ceftaminlastmerge = pd.merge(Ceftaminlastvol, uniquemice_df, on=(\"Mouse ID\",\"Timepoint\"),how=\"left\")\n",
    "Ceftaminlastmerge.head(10)\n",
    "\n",
    "Ceftamintumors = Ceftaminlastmerge[\"Tumor Volume (mm3)\"]\n",
    "\n",
    "quartiles4 = Ceftamintumors.quantile([.25,.5,.75])\n",
    "lowerq4 = quartiles4[0.25]\n",
    "upperq4 = quartiles4[0.75]\n",
    "iqr4 = upperq4-lowerq4\n",
    "\n",
    "lower_bound4 = lowerq4 - (1.5*iqr4)\n",
    "upper_bound4 = upperq4 + (1.5*iqr4)\n",
    "print(f\"Ceftamin potential outliers could be values below {lower_bound4} and above {upper_bound4} could be outliers.\")"
   ]
  },
  {
   "cell_type": "code",
   "execution_count": null,
   "metadata": {},
   "outputs": [],
   "source": [
    "# Generate a box plot of the final tumor volume of each mouse across four regimens of interest\n",
    "plot_tumor = [Capomulintumors, Ramicanetumors, Infubinoltumors, Ceftamintumors]\n",
    "\n",
    "fig1, ax1 = plt.subplots()\n",
    "ax1.set_title('Final Tumor Volume by Drug Regimen')\n",
    "ax1.set_ylabel('Final Tumor Volume (mm3)')\n",
    "ax1.set_xlabel('Drug Regimen')\n",
    "plt.rcParams['font.size'] = 14\n",
    "ax1.boxplot(plot_tumor, labels=[\"Capomulin\",\"Ramicane\",\"Infubinol\",\"Ceftamin\",])\n",
    "\n",
    "plt.savefig(\"Charts/BoxWhisker.png\")\n",
    "\n",
    "plt.show()"
   ]
  },
  {
   "cell_type": "markdown",
   "metadata": {},
   "source": [
    "## Line and Scatter Plots"
   ]
  },
  {
   "cell_type": "code",
   "execution_count": null,
   "metadata": {},
   "outputs": [],
   "source": [
    "# Generate a line plot of tumor volume vs. time point for a mouse treated with Capomulin\n",
    "capomulin_treatment = uniquemice_df.loc[uniquemice_df['Drug Regimen'] == 'Capomulin']\n",
    "\n",
    "capomulin_treatment.head()"
   ]
  },
  {
   "cell_type": "code",
   "execution_count": null,
   "metadata": {},
   "outputs": [],
   "source": [
    "capomulin_vol_tumor = capomulin_treatment.groupby(['Timepoint']).agg(Tumor_Vol_Mean=('Tumor Volume (mm3)', np.mean),).round(3)\n",
    "\n",
    "# View the groupby dataframe \n",
    "capomulin_vol_tumor.head(10)\n"
   ]
  },
  {
   "cell_type": "code",
   "execution_count": null,
   "metadata": {},
   "outputs": [],
   "source": [
    "# get the values for the x axis\n",
    "x_series = list(capomulin_vol_tumor.index.values)\n",
    "\n",
    "# format x values, lines and width of line\n",
    "plt.errorbar(\n",
    "    x_series, \n",
    "    capomulin_vol_tumor['Tumor_Vol_Mean'],\n",
    "    label=\"Time Series of Tumor Volume for Capomulin\",\n",
    "    fmt=\"bs-\", \n",
    "    linewidth=2\n",
    "    )\n",
    "\n",
    "# Add the descriptive title, x labels and y labels\n",
    "plt.title(\"Time Series of Tumor Volume for Capomulin\")\n",
    "plt.xlabel(\"Time (days)\")\n",
    "plt.ylabel(\"Tumor Volume (mm3)\")\n",
    "\n",
    "# Set x and y limits \n",
    "plt.xlim(min(x_series)-max(x_series)*0.05, max(time_series)*1.05)\n",
    "plt.ylim(min(capomulin_vol_tumor['Tumor_Vol_Mean'])*0.95, max(capomulin_vol_tumor['Tumor_Vol_Mean'])*1.05)\n",
    "plt.rcParams[\"figure.figsize\"] = [8,7]\n",
    "\n",
    "# Save the figure\n",
    "plt.savefig(\"Charts/LineTumorVolTime.png\")\n",
    "\n",
    "plt.show()"
   ]
  },
  {
   "cell_type": "code",
   "execution_count": null,
   "metadata": {},
   "outputs": [],
   "source": [
    "# Generate a scatter plot of average tumor volume vs. mouse weight for the Capomulin regimen\n",
    "capomulin_treatment.head()\n",
    "\n",
    "capomulin_mouse_id = capomulin_treatment.groupby(['Mouse ID']).agg(Mouse_weight=('Weight (g)', np.mean), Tumor_vol_avg=('Tumor Volume (mm3)', np.mean)\\\n",
    ").round(3)\n",
    "capomulin_mouse_id.head(30)\n",
    "\n",
    "#create scatter plot from the above dataframe\n",
    "plt.scatter(\n",
    "   capomulin_mouse_id['Mouse_weight'],\n",
    "   capomulin_mouse_id['Tumor_vol_avg'],\n",
    "    marker='o',\n",
    "    facecolors='red',\n",
    "    edgecolors='black',\n",
    "    s=capomulin_mouse_id['Tumor_vol_avg'],\n",
    "    alpha=.75)\n",
    "\n",
    "# Create a title, x label, and y label for our chart\n",
    "plt.title(\"Mouse Weight vs. Avg. Tumor Volume\")\n",
    "plt.xlabel(\"Mouse weight (g)\")\n",
    "plt.ylabel(\"Tumor Volume (mm3)\")\n",
    "# Save the figure\n",
    "plt.savefig(\"Charts/ScatterWeightTumor.png\")\n",
    "\n",
    "plt.show()"
   ]
  },
  {
   "cell_type": "markdown",
   "metadata": {},
   "source": [
    "## Correlation and Regression"
   ]
  },
  {
   "cell_type": "code",
   "execution_count": null,
   "metadata": {},
   "outputs": [],
   "source": [
    "# Calculate the correlation coefficient and linear regression model \n",
    "\n",
    "correlationcoeff = st.pearsonr(capomulin_mouse_id['Mouse_weight'],capomulin_mouse_id['Tumor_vol_avg'])\n",
    "print(f\"The correlation between both factors is {round(correlationcoeff[0],2)}\")\n",
    "\n",
    "# for mouse weight and average tumor volume for the Capomulin regimen\n"
   ]
  },
  {
   "cell_type": "code",
   "execution_count": null,
   "metadata": {},
   "outputs": [],
   "source": []
  }
 ],
 "metadata": {
  "anaconda-cloud": {},
  "kernelspec": {
   "display_name": "Python 3",
   "language": "python",
   "name": "python3"
  },
  "language_info": {
   "codemirror_mode": {
    "name": "ipython",
    "version": 3
   },
   "file_extension": ".py",
   "mimetype": "text/x-python",
   "name": "python",
   "nbconvert_exporter": "python",
   "pygments_lexer": "ipython3",
   "version": "3.6.10"
  }
 },
 "nbformat": 4,
 "nbformat_minor": 4
}
